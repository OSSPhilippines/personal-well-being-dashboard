{
 "cells": [
  {
   "cell_type": "code",
   "execution_count": 2,
   "metadata": {},
   "outputs": [
    {
     "ename": "FileNotFoundError",
     "evalue": "[Errno 2] No such file or directory: 'attachments/172ebc6bf2530428_1_facebook-icon.png_image-png'",
     "output_type": "error",
     "traceback": [
      "\u001b[0;31m---------------------------------------------------------------------------\u001b[0m",
      "\u001b[0;31mFileNotFoundError\u001b[0m                         Traceback (most recent call last)",
      "Cell \u001b[0;32mIn[2], line 21\u001b[0m\n\u001b[1;32m     14\u001b[0m params \u001b[38;5;241m=\u001b[39m {\n\u001b[1;32m     15\u001b[0m     \u001b[38;5;124m\"\u001b[39m\u001b[38;5;124msender\u001b[39m\u001b[38;5;124m\"\u001b[39m: domains,\n\u001b[1;32m     16\u001b[0m     \u001b[38;5;124m\"\u001b[39m\u001b[38;5;124msubject\u001b[39m\u001b[38;5;124m\"\u001b[39m: keywords,\n\u001b[1;32m     17\u001b[0m }\n\u001b[1;32m     19\u001b[0m messages \u001b[38;5;241m=\u001b[39m gmail\u001b[38;5;241m.\u001b[39mget_messages(query\u001b[38;5;241m=\u001b[39mconstruct_query(params), include_spam_trash\u001b[38;5;241m=\u001b[39m\u001b[38;5;28;01mFalse\u001b[39;00m)\n\u001b[0;32m---> 21\u001b[0m df \u001b[38;5;241m=\u001b[39m \u001b[43mgmail_downloader\u001b[49m\u001b[38;5;241;43m.\u001b[39;49m\u001b[43mprocess_messages\u001b[49m\u001b[43m(\u001b[49m\u001b[43mmessages\u001b[49m\u001b[43m)\u001b[49m\n\u001b[1;32m     23\u001b[0m df\u001b[38;5;241m.\u001b[39mhead(\u001b[38;5;241m10\u001b[39m)\n",
      "File \u001b[0;32m/Applications/XAMPP/xamppfiles/htdocs/personal_wellbeing_project/venv/personal-well-being-dashboard/simplegmail/gmail_downloader.py:35\u001b[0m, in \u001b[0;36mGmailDownloader.process_messages\u001b[0;34m(self, messages)\u001b[0m\n\u001b[1;32m     32\u001b[0m     data\u001b[38;5;241m.\u001b[39mappend(message_data)\n\u001b[1;32m     34\u001b[0m     \u001b[38;5;66;03m# Save the attachments\u001b[39;00m\n\u001b[0;32m---> 35\u001b[0m     \u001b[38;5;28;43mself\u001b[39;49m\u001b[38;5;241;43m.\u001b[39;49m\u001b[43msave_attachments\u001b[49m\u001b[43m(\u001b[49m\u001b[43mmessage\u001b[49m\u001b[43m)\u001b[49m\n\u001b[1;32m     37\u001b[0m \u001b[38;5;28;01mreturn\u001b[39;00m pd\u001b[38;5;241m.\u001b[39mDataFrame(data)\n",
      "File \u001b[0;32m/Applications/XAMPP/xamppfiles/htdocs/personal_wellbeing_project/venv/personal-well-being-dashboard/simplegmail/gmail_downloader.py:46\u001b[0m, in \u001b[0;36mGmailDownloader.save_attachments\u001b[0;34m(self, message)\u001b[0m\n\u001b[1;32m     44\u001b[0m attm\u001b[38;5;241m.\u001b[39mfiletype \u001b[38;5;241m=\u001b[39m \u001b[38;5;28mself\u001b[39m\u001b[38;5;241m.\u001b[39mclean_string(attm\u001b[38;5;241m.\u001b[39mfiletype)\n\u001b[1;32m     45\u001b[0m filepath \u001b[38;5;241m=\u001b[39m \u001b[38;5;124mf\u001b[39m\u001b[38;5;124m\"\u001b[39m\u001b[38;5;124mattachments/\u001b[39m\u001b[38;5;132;01m{\u001b[39;00mmessage\u001b[38;5;241m.\u001b[39mid\u001b[38;5;132;01m}\u001b[39;00m\u001b[38;5;124m_\u001b[39m\u001b[38;5;132;01m{\u001b[39;00mc\u001b[38;5;132;01m}\u001b[39;00m\u001b[38;5;124m_\u001b[39m\u001b[38;5;132;01m{\u001b[39;00mattm\u001b[38;5;241m.\u001b[39mfilename\u001b[38;5;132;01m}\u001b[39;00m\u001b[38;5;124m_\u001b[39m\u001b[38;5;132;01m{\u001b[39;00mattm\u001b[38;5;241m.\u001b[39mfiletype\u001b[38;5;132;01m}\u001b[39;00m\u001b[38;5;124m\"\u001b[39m\n\u001b[0;32m---> 46\u001b[0m \u001b[43mattm\u001b[49m\u001b[38;5;241;43m.\u001b[39;49m\u001b[43msave\u001b[49m\u001b[43m(\u001b[49m\u001b[43mfilepath\u001b[49m\u001b[38;5;241;43m=\u001b[39;49m\u001b[43mfilepath\u001b[49m\u001b[43m,\u001b[49m\u001b[43m \u001b[49m\u001b[43moverwrite\u001b[49m\u001b[38;5;241;43m=\u001b[39;49m\u001b[38;5;28;43;01mTrue\u001b[39;49;00m\u001b[43m)\u001b[49m\n",
      "File \u001b[0;32m/Applications/XAMPP/xamppfiles/htdocs/personal_wellbeing_project/venv/personal-well-being-dashboard/simplegmail/attachment.py:106\u001b[0m, in \u001b[0;36mAttachment.save\u001b[0;34m(self, filepath, overwrite)\u001b[0m\n\u001b[1;32m    100\u001b[0m \u001b[38;5;28;01mif\u001b[39;00m \u001b[38;5;129;01mnot\u001b[39;00m overwrite \u001b[38;5;129;01mand\u001b[39;00m os\u001b[38;5;241m.\u001b[39mpath\u001b[38;5;241m.\u001b[39mexists(filepath):\n\u001b[1;32m    101\u001b[0m     \u001b[38;5;28;01mraise\u001b[39;00m \u001b[38;5;167;01mFileExistsError\u001b[39;00m(\n\u001b[1;32m    102\u001b[0m         \u001b[38;5;124mf\u001b[39m\u001b[38;5;124m\"\u001b[39m\u001b[38;5;124mCannot overwrite file \u001b[39m\u001b[38;5;124m'\u001b[39m\u001b[38;5;132;01m{\u001b[39;00mfilepath\u001b[38;5;132;01m}\u001b[39;00m\u001b[38;5;124m'\u001b[39m\u001b[38;5;124m. Use overwrite=True if \u001b[39m\u001b[38;5;124m\"\u001b[39m\n\u001b[1;32m    103\u001b[0m         \u001b[38;5;124mf\u001b[39m\u001b[38;5;124m\"\u001b[39m\u001b[38;5;124myou would like to overwrite the file.\u001b[39m\u001b[38;5;124m\"\u001b[39m\n\u001b[1;32m    104\u001b[0m     )\n\u001b[0;32m--> 106\u001b[0m \u001b[38;5;28;01mwith\u001b[39;00m \u001b[38;5;28;43mopen\u001b[39;49m\u001b[43m(\u001b[49m\u001b[43mfilepath\u001b[49m\u001b[43m,\u001b[49m\u001b[43m \u001b[49m\u001b[38;5;124;43m'\u001b[39;49m\u001b[38;5;124;43mwb\u001b[39;49m\u001b[38;5;124;43m'\u001b[39;49m\u001b[43m)\u001b[49m \u001b[38;5;28;01mas\u001b[39;00m f:\n\u001b[1;32m    107\u001b[0m     f\u001b[38;5;241m.\u001b[39mwrite(\u001b[38;5;28mself\u001b[39m\u001b[38;5;241m.\u001b[39mdata)\n",
      "\u001b[0;31mFileNotFoundError\u001b[0m: [Errno 2] No such file or directory: 'attachments/172ebc6bf2530428_1_facebook-icon.png_image-png'"
     ]
    }
   ],
   "source": [
    "from simplegmail import Gmail\n",
    "from simplegmail.query import construct_query\n",
    "import pandas as pd\n",
    "from simplegmail.gmail_downloader import GmailDownloader\n",
    "\n",
    "gmail = Gmail()\n",
    "\n",
    "gmail_downloader = GmailDownloader(gmail)\n",
    "\n",
    "## this is for parameter filtering\n",
    "domains = [\"gcash.com\", \"unionbankph.com\"]\n",
    "keywords = [\"Bills Pay Receipt\", \"Unionbank Receipt\"]\n",
    "\n",
    "params = {\n",
    "    \"sender\": domains,\n",
    "    \"subject\": keywords,\n",
    "}\n",
    "\n",
    "messages = gmail.get_messages(query=construct_query(params), include_spam_trash=False)\n",
    "\n",
    "df = gmail_downloader.process_messages(messages)\n",
    "\n",
    "df.head(10)\n",
    "\n",
    "\n",
    "\n",
    "\n",
    "\n",
    "\n"
   ]
  }
 ],
 "metadata": {
  "kernelspec": {
   "display_name": "venv",
   "language": "python",
   "name": "python3"
  },
  "language_info": {
   "codemirror_mode": {
    "name": "ipython",
    "version": 3
   },
   "file_extension": ".py",
   "mimetype": "text/x-python",
   "name": "python",
   "nbconvert_exporter": "python",
   "pygments_lexer": "ipython3",
   "version": "3.12.3"
  }
 },
 "nbformat": 4,
 "nbformat_minor": 2
}
