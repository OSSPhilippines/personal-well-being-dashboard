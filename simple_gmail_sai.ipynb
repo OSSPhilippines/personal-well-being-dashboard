{
 "cells": [
  {
   "cell_type": "code",
   "execution_count": 1,
   "metadata": {},
   "outputs": [
    {
     "ename": "AttributeError",
     "evalue": "module 'dlt' has no attribute 'pipeline'",
     "output_type": "error",
     "traceback": [
      "\u001b[0;31m---------------------------------------------------------------------------\u001b[0m",
      "\u001b[0;31mAttributeError\u001b[0m                            Traceback (most recent call last)",
      "Cell \u001b[0;32mIn[1], line 37\u001b[0m\n\u001b[1;32m     33\u001b[0m messages \u001b[38;5;241m=\u001b[39m gmail\u001b[38;5;241m.\u001b[39mget_messages(query\u001b[38;5;241m=\u001b[39mquery, include_spam_trash\u001b[38;5;241m=\u001b[39m\u001b[38;5;28;01mFalse\u001b[39;00m)\n\u001b[1;32m     35\u001b[0m gmail_data \u001b[38;5;241m=\u001b[39m gmail_downloader\u001b[38;5;241m.\u001b[39mprocess_messages(messages)\n\u001b[0;32m---> 37\u001b[0m pipeline \u001b[38;5;241m=\u001b[39m \u001b[43mdlt\u001b[49m\u001b[38;5;241;43m.\u001b[39;49m\u001b[43mpipeline\u001b[49m(pipeline_name\u001b[38;5;241m=\u001b[39m\u001b[38;5;124m\"\u001b[39m\u001b[38;5;124mgmail_data\u001b[39m\u001b[38;5;124m\"\u001b[39m, destination\u001b[38;5;241m=\u001b[39m\u001b[38;5;124m\"\u001b[39m\u001b[38;5;124mduckdb\u001b[39m\u001b[38;5;124m\"\u001b[39m, dataset_name\u001b[38;5;241m=\u001b[39m\u001b[38;5;124m\"\u001b[39m\u001b[38;5;124mgmail_data\u001b[39m\u001b[38;5;124m\"\u001b[39m)\n\u001b[1;32m     38\u001b[0m load_info \u001b[38;5;241m=\u001b[39m pipeline\u001b[38;5;241m.\u001b[39mrun(gmail_data, table_name\u001b[38;5;241m=\u001b[39m\u001b[38;5;124m\"\u001b[39m\u001b[38;5;124mgmail_data\u001b[39m\u001b[38;5;124m\"\u001b[39m)\n",
      "\u001b[0;31mAttributeError\u001b[0m: module 'dlt' has no attribute 'pipeline'"
     ]
    }
   ],
   "source": [
    "from simplegmail import Gmail\n",
    "from simplegmail.query import construct_query\n",
    "import pandas as pd\n",
    "from simplegmail.gmail_downloader import GmailDownloader\n",
    "from datetime import datetime\n",
    "import dlt\n",
    "\n",
    "gmail = Gmail()\n",
    "\n",
    "gmail_downloader = GmailDownloader(gmail)\n",
    "\n",
    "def format_query(domains, keywords = None, start_date = None, end_date = None):\n",
    "    query = ''\n",
    "    if start_date:\n",
    "        query += f' after:{start_date.strftime(\"%Y/%m/%d\")}'\n",
    "        \n",
    "    if end_date:\n",
    "        query += f' before:{end_date.strftime(\"%Y/%m/%d\")}'\n",
    "        \n",
    "    query += ' OR '.join([f\" from:{domain}\" for domain in domains] + [f\" to:{domain}\" for domain in domains])\n",
    "\n",
    "    return query\n",
    "    \n",
    "\n",
    "## this is for parameter filtering\n",
    "domains = [\"gcash.com\", \"unionbankph.com\"]\n",
    "keywords = []\n",
    "start_date = datetime(2023, 2, 1)  # Start from Feb 1, 2023\n",
    "end_date = datetime.now()  # Up to the current date\n",
    "\n",
    "query = format_query(domains, keywords, start_date, end_date)\n",
    "\n",
    "messages = gmail.get_messages(query=query, include_spam_trash=False)\n",
    "\n",
    "gmail_data = gmail_downloader.process_messages(messages)\n",
    "\n",
    "print(dlt)\n",
    "\n",
    "# pipeline = dlt.pipeline(pipeline_name=\"gmail_data\", destination=\"duckdb\", dataset_name=\"gmail_data\")\n",
    "# load_info = pipeline.run(gmail_data, table_name=\"gmail_data\")\n",
    "\n",
    "\n"
   ]
  },
  {
   "cell_type": "code",
   "execution_count": null,
   "metadata": {},
   "outputs": [],
   "source": []
  },
  {
   "cell_type": "code",
   "execution_count": null,
   "metadata": {},
   "outputs": [],
   "source": []
  }
 ],
 "metadata": {
  "kernelspec": {
   "display_name": "venv",
   "language": "python",
   "name": "python3"
  },
  "language_info": {
   "codemirror_mode": {
    "name": "ipython",
    "version": 3
   },
   "file_extension": ".py",
   "mimetype": "text/x-python",
   "name": "python",
   "nbconvert_exporter": "python",
   "pygments_lexer": "ipython3",
   "version": "3.12.3"
  }
 },
 "nbformat": 4,
 "nbformat_minor": 2
}
